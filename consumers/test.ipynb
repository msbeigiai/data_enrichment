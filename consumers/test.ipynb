{
 "cells": [
  {
   "cell_type": "code",
   "execution_count": 2,
   "outputs": [],
   "source": [
    "from kafka import KafkaConsumer\n",
    "import redis\n",
    "from vars import topics, sql_conf, tables\n",
    "import json\n",
    "import pyodbc"
   ],
   "metadata": {
    "collapsed": false,
    "pycharm": {
     "name": "#%%\n"
    }
   }
  },
  {
   "cell_type": "code",
   "execution_count": 3,
   "outputs": [],
   "source": [
    "consumer = KafkaConsumer(\n",
    "    topics[\"rtt_topic\"],\n",
    "    bootstrap_servers=['172.31.70.21:9092'],\n",
    "    auto_offset_reset=\"earliest\",\n",
    "    enable_auto_commit=True,\n",
    "    group_id=topics[\"rtt_topic\"] + '_group',\n",
    "    value_deserializer=lambda x: json.loads(x.decode('utf-8'))\n",
    ")\n",
    "conn = pyodbc.connect(\n",
    "    f'DRIVER={sql_conf[\"driver\"]};SERVER=' + sql_conf[\"server\"] + ';DATABASE=' + sql_conf[\"database\"] + \\\n",
    "    ';UID=' + sql_conf[\"username\"] + ';PWD=' + sql_conf[\"password\"])\n",
    "cursor = conn.cursor()"
   ],
   "metadata": {
    "collapsed": false,
    "pycharm": {
     "name": "#%%\n"
    }
   }
  },
  {
   "cell_type": "code",
   "execution_count": 4,
   "outputs": [],
   "source": [
    "r = redis.Redis(host=\"localhost\", port=6379, db=0)"
   ],
   "metadata": {
    "collapsed": false,
    "pycharm": {
     "name": "#%%\n"
    }
   }
  },
  {
   "cell_type": "code",
   "execution_count": 5,
   "outputs": [],
   "source": [
    "def query_ingest():\n",
    "    query_itemid = \"select b.NAMEALIAS from RETAILTRANSACTIONTABLE c \" \\\n",
    "                       \" inner join RETAILTRANSACTIONSALESTRANS d on \" \\\n",
    "                       \"c.TRANSACTIONID = d.TRANSACTIONID \" \\\n",
    "                       \"inner join INVENTTABLE b on \" \\\n",
    "                       \"b.ITEMID = d.ITEMID where c.TRANSACTIONID = 'Template-000013-338'\"\n",
    "    cursor.execute(query_itemid)\n",
    "    value = cursor.fetchall()\n",
    "    r.append('Template-000013-338', str(value))\n",
    "    return value"
   ],
   "metadata": {
    "collapsed": false,
    "pycharm": {
     "name": "#%%\n"
    }
   }
  },
  {
   "cell_type": "code",
   "execution_count": 6,
   "outputs": [],
   "source": [
    "list_items = [\"TRANSACTIONID\", \"STORE\", \"TRANSTIME\", \"PAYMENTAMOUNT\", \"CREATEDDATETIME\", \"CUSTACCOUNT\"]"
   ],
   "metadata": {
    "collapsed": false,
    "pycharm": {
     "name": "#%%\n"
    }
   }
  },
  {
   "cell_type": "code",
   "execution_count": 7,
   "outputs": [],
   "source": [
    "def data_fetch(dic):\n",
    "    list_items = [\"TRANSACTIONID\", \"STORE\", \"TRANSTIME\", \"PAYMENTAMOUNT\", \"CREATEDDATETIME\", \"CUSTACCOUNT\"]\n",
    "    var = {k: v for k, v in dic.items() if k in [val for val in list_items]}\n",
    "    return var"
   ],
   "metadata": {
    "collapsed": false,
    "pycharm": {
     "name": "#%%\n"
    }
   }
  },
  {
   "cell_type": "code",
   "execution_count": 9,
   "outputs": [
    {
     "ename": "AttributeError",
     "evalue": "'NoneType' object has no attribute 'decode'",
     "output_type": "error",
     "traceback": [
      "\u001B[1;31m---------------------------------------------------------------------------\u001B[0m",
      "\u001B[1;31mAttributeError\u001B[0m                            Traceback (most recent call last)",
      "\u001B[1;32m~\\AppData\\Local\\Temp\\ipykernel_27592\\4228986648.py\u001B[0m in \u001B[0;36m<module>\u001B[1;34m\u001B[0m\n\u001B[1;32m----> 1\u001B[1;33m \u001B[1;32mfor\u001B[0m \u001B[0mmsg\u001B[0m \u001B[1;32min\u001B[0m \u001B[0mconsumer\u001B[0m\u001B[1;33m:\u001B[0m\u001B[1;33m\u001B[0m\u001B[1;33m\u001B[0m\u001B[0m\n\u001B[0m\u001B[0;32m      2\u001B[0m     \u001B[0mmsg\u001B[0m \u001B[1;33m=\u001B[0m \u001B[0mmsg\u001B[0m\u001B[1;33m.\u001B[0m\u001B[0mvalue\u001B[0m\u001B[1;33m\u001B[0m\u001B[1;33m\u001B[0m\u001B[0m\n\u001B[0;32m      3\u001B[0m     \u001B[0mdata\u001B[0m \u001B[1;33m=\u001B[0m \u001B[0mdata_fetch\u001B[0m\u001B[1;33m(\u001B[0m\u001B[0mmsg\u001B[0m\u001B[1;33m[\u001B[0m\u001B[1;34m\"payload\"\u001B[0m\u001B[1;33m]\u001B[0m\u001B[1;33m[\u001B[0m\u001B[1;34m\"after\"\u001B[0m\u001B[1;33m]\u001B[0m\u001B[1;33m)\u001B[0m\u001B[1;33m\u001B[0m\u001B[1;33m\u001B[0m\u001B[0m\n\u001B[0;32m      4\u001B[0m     \u001B[0mdata\u001B[0m\u001B[1;33m[\u001B[0m\u001B[1;34m\"NAMEALIAS\"\u001B[0m\u001B[1;33m]\u001B[0m \u001B[1;33m=\u001B[0m \u001B[0mquery_ingest\u001B[0m\u001B[1;33m(\u001B[0m\u001B[1;33m)\u001B[0m\u001B[1;33m\u001B[0m\u001B[1;33m\u001B[0m\u001B[0m\n\u001B[0;32m      5\u001B[0m     \u001B[0mprint\u001B[0m\u001B[1;33m(\u001B[0m\u001B[0mdata\u001B[0m\u001B[1;33m)\u001B[0m\u001B[1;33m\u001B[0m\u001B[1;33m\u001B[0m\u001B[0m\n",
      "\u001B[1;32md:\\maindashboard\\mdenv\\lib\\site-packages\\kafka\\consumer\\group.py\u001B[0m in \u001B[0;36m__next__\u001B[1;34m(self)\u001B[0m\n\u001B[0;32m   1191\u001B[0m             \u001B[1;32mreturn\u001B[0m \u001B[0mself\u001B[0m\u001B[1;33m.\u001B[0m\u001B[0mnext_v1\u001B[0m\u001B[1;33m(\u001B[0m\u001B[1;33m)\u001B[0m\u001B[1;33m\u001B[0m\u001B[1;33m\u001B[0m\u001B[0m\n\u001B[0;32m   1192\u001B[0m         \u001B[1;32melse\u001B[0m\u001B[1;33m:\u001B[0m\u001B[1;33m\u001B[0m\u001B[1;33m\u001B[0m\u001B[0m\n\u001B[1;32m-> 1193\u001B[1;33m             \u001B[1;32mreturn\u001B[0m \u001B[0mself\u001B[0m\u001B[1;33m.\u001B[0m\u001B[0mnext_v2\u001B[0m\u001B[1;33m(\u001B[0m\u001B[1;33m)\u001B[0m\u001B[1;33m\u001B[0m\u001B[1;33m\u001B[0m\u001B[0m\n\u001B[0m\u001B[0;32m   1194\u001B[0m \u001B[1;33m\u001B[0m\u001B[0m\n\u001B[0;32m   1195\u001B[0m     \u001B[1;32mdef\u001B[0m \u001B[0mnext_v2\u001B[0m\u001B[1;33m(\u001B[0m\u001B[0mself\u001B[0m\u001B[1;33m)\u001B[0m\u001B[1;33m:\u001B[0m\u001B[1;33m\u001B[0m\u001B[1;33m\u001B[0m\u001B[0m\n",
      "\u001B[1;32md:\\maindashboard\\mdenv\\lib\\site-packages\\kafka\\consumer\\group.py\u001B[0m in \u001B[0;36mnext_v2\u001B[1;34m(self)\u001B[0m\n\u001B[0;32m   1199\u001B[0m                 \u001B[0mself\u001B[0m\u001B[1;33m.\u001B[0m\u001B[0m_iterator\u001B[0m \u001B[1;33m=\u001B[0m \u001B[0mself\u001B[0m\u001B[1;33m.\u001B[0m\u001B[0m_message_generator_v2\u001B[0m\u001B[1;33m(\u001B[0m\u001B[1;33m)\u001B[0m\u001B[1;33m\u001B[0m\u001B[1;33m\u001B[0m\u001B[0m\n\u001B[0;32m   1200\u001B[0m             \u001B[1;32mtry\u001B[0m\u001B[1;33m:\u001B[0m\u001B[1;33m\u001B[0m\u001B[1;33m\u001B[0m\u001B[0m\n\u001B[1;32m-> 1201\u001B[1;33m                 \u001B[1;32mreturn\u001B[0m \u001B[0mnext\u001B[0m\u001B[1;33m(\u001B[0m\u001B[0mself\u001B[0m\u001B[1;33m.\u001B[0m\u001B[0m_iterator\u001B[0m\u001B[1;33m)\u001B[0m\u001B[1;33m\u001B[0m\u001B[1;33m\u001B[0m\u001B[0m\n\u001B[0m\u001B[0;32m   1202\u001B[0m             \u001B[1;32mexcept\u001B[0m \u001B[0mStopIteration\u001B[0m\u001B[1;33m:\u001B[0m\u001B[1;33m\u001B[0m\u001B[1;33m\u001B[0m\u001B[0m\n\u001B[0;32m   1203\u001B[0m                 \u001B[0mself\u001B[0m\u001B[1;33m.\u001B[0m\u001B[0m_iterator\u001B[0m \u001B[1;33m=\u001B[0m \u001B[1;32mNone\u001B[0m\u001B[1;33m\u001B[0m\u001B[1;33m\u001B[0m\u001B[0m\n",
      "\u001B[1;32md:\\maindashboard\\mdenv\\lib\\site-packages\\kafka\\consumer\\group.py\u001B[0m in \u001B[0;36m_message_generator_v2\u001B[1;34m(self)\u001B[0m\n\u001B[0;32m   1114\u001B[0m     \u001B[1;32mdef\u001B[0m \u001B[0m_message_generator_v2\u001B[0m\u001B[1;33m(\u001B[0m\u001B[0mself\u001B[0m\u001B[1;33m)\u001B[0m\u001B[1;33m:\u001B[0m\u001B[1;33m\u001B[0m\u001B[1;33m\u001B[0m\u001B[0m\n\u001B[0;32m   1115\u001B[0m         \u001B[0mtimeout_ms\u001B[0m \u001B[1;33m=\u001B[0m \u001B[1;36m1000\u001B[0m \u001B[1;33m*\u001B[0m \u001B[1;33m(\u001B[0m\u001B[0mself\u001B[0m\u001B[1;33m.\u001B[0m\u001B[0m_consumer_timeout\u001B[0m \u001B[1;33m-\u001B[0m \u001B[0mtime\u001B[0m\u001B[1;33m.\u001B[0m\u001B[0mtime\u001B[0m\u001B[1;33m(\u001B[0m\u001B[1;33m)\u001B[0m\u001B[1;33m)\u001B[0m\u001B[1;33m\u001B[0m\u001B[1;33m\u001B[0m\u001B[0m\n\u001B[1;32m-> 1116\u001B[1;33m         \u001B[0mrecord_map\u001B[0m \u001B[1;33m=\u001B[0m \u001B[0mself\u001B[0m\u001B[1;33m.\u001B[0m\u001B[0mpoll\u001B[0m\u001B[1;33m(\u001B[0m\u001B[0mtimeout_ms\u001B[0m\u001B[1;33m=\u001B[0m\u001B[0mtimeout_ms\u001B[0m\u001B[1;33m,\u001B[0m \u001B[0mupdate_offsets\u001B[0m\u001B[1;33m=\u001B[0m\u001B[1;32mFalse\u001B[0m\u001B[1;33m)\u001B[0m\u001B[1;33m\u001B[0m\u001B[1;33m\u001B[0m\u001B[0m\n\u001B[0m\u001B[0;32m   1117\u001B[0m         \u001B[1;32mfor\u001B[0m \u001B[0mtp\u001B[0m\u001B[1;33m,\u001B[0m \u001B[0mrecords\u001B[0m \u001B[1;32min\u001B[0m \u001B[0msix\u001B[0m\u001B[1;33m.\u001B[0m\u001B[0miteritems\u001B[0m\u001B[1;33m(\u001B[0m\u001B[0mrecord_map\u001B[0m\u001B[1;33m)\u001B[0m\u001B[1;33m:\u001B[0m\u001B[1;33m\u001B[0m\u001B[1;33m\u001B[0m\u001B[0m\n\u001B[0;32m   1118\u001B[0m             \u001B[1;31m# Generators are stateful, and it is possible that the tp / records\u001B[0m\u001B[1;33m\u001B[0m\u001B[1;33m\u001B[0m\u001B[1;33m\u001B[0m\u001B[0m\n",
      "\u001B[1;32md:\\maindashboard\\mdenv\\lib\\site-packages\\kafka\\consumer\\group.py\u001B[0m in \u001B[0;36mpoll\u001B[1;34m(self, timeout_ms, max_records, update_offsets)\u001B[0m\n\u001B[0;32m    653\u001B[0m         \u001B[0mremaining\u001B[0m \u001B[1;33m=\u001B[0m \u001B[0mtimeout_ms\u001B[0m\u001B[1;33m\u001B[0m\u001B[1;33m\u001B[0m\u001B[0m\n\u001B[0;32m    654\u001B[0m         \u001B[1;32mwhile\u001B[0m \u001B[1;32mTrue\u001B[0m\u001B[1;33m:\u001B[0m\u001B[1;33m\u001B[0m\u001B[1;33m\u001B[0m\u001B[0m\n\u001B[1;32m--> 655\u001B[1;33m             \u001B[0mrecords\u001B[0m \u001B[1;33m=\u001B[0m \u001B[0mself\u001B[0m\u001B[1;33m.\u001B[0m\u001B[0m_poll_once\u001B[0m\u001B[1;33m(\u001B[0m\u001B[0mremaining\u001B[0m\u001B[1;33m,\u001B[0m \u001B[0mmax_records\u001B[0m\u001B[1;33m,\u001B[0m \u001B[0mupdate_offsets\u001B[0m\u001B[1;33m=\u001B[0m\u001B[0mupdate_offsets\u001B[0m\u001B[1;33m)\u001B[0m\u001B[1;33m\u001B[0m\u001B[1;33m\u001B[0m\u001B[0m\n\u001B[0m\u001B[0;32m    656\u001B[0m             \u001B[1;32mif\u001B[0m \u001B[0mrecords\u001B[0m\u001B[1;33m:\u001B[0m\u001B[1;33m\u001B[0m\u001B[1;33m\u001B[0m\u001B[0m\n\u001B[0;32m    657\u001B[0m                 \u001B[1;32mreturn\u001B[0m \u001B[0mrecords\u001B[0m\u001B[1;33m\u001B[0m\u001B[1;33m\u001B[0m\u001B[0m\n",
      "\u001B[1;32md:\\maindashboard\\mdenv\\lib\\site-packages\\kafka\\consumer\\group.py\u001B[0m in \u001B[0;36m_poll_once\u001B[1;34m(self, timeout_ms, max_records, update_offsets)\u001B[0m\n\u001B[0;32m    706\u001B[0m             \u001B[1;32mreturn\u001B[0m \u001B[1;33m{\u001B[0m\u001B[1;33m}\u001B[0m\u001B[1;33m\u001B[0m\u001B[1;33m\u001B[0m\u001B[0m\n\u001B[0;32m    707\u001B[0m \u001B[1;33m\u001B[0m\u001B[0m\n\u001B[1;32m--> 708\u001B[1;33m         \u001B[0mrecords\u001B[0m\u001B[1;33m,\u001B[0m \u001B[0m_\u001B[0m \u001B[1;33m=\u001B[0m \u001B[0mself\u001B[0m\u001B[1;33m.\u001B[0m\u001B[0m_fetcher\u001B[0m\u001B[1;33m.\u001B[0m\u001B[0mfetched_records\u001B[0m\u001B[1;33m(\u001B[0m\u001B[0mmax_records\u001B[0m\u001B[1;33m,\u001B[0m \u001B[0mupdate_offsets\u001B[0m\u001B[1;33m=\u001B[0m\u001B[0mupdate_offsets\u001B[0m\u001B[1;33m)\u001B[0m\u001B[1;33m\u001B[0m\u001B[1;33m\u001B[0m\u001B[0m\n\u001B[0m\u001B[0;32m    709\u001B[0m         \u001B[1;32mreturn\u001B[0m \u001B[0mrecords\u001B[0m\u001B[1;33m\u001B[0m\u001B[1;33m\u001B[0m\u001B[0m\n\u001B[0;32m    710\u001B[0m \u001B[1;33m\u001B[0m\u001B[0m\n",
      "\u001B[1;32md:\\maindashboard\\mdenv\\lib\\site-packages\\kafka\\consumer\\fetcher.py\u001B[0m in \u001B[0;36mfetched_records\u001B[1;34m(self, max_records, update_offsets)\u001B[0m\n\u001B[0;32m    342\u001B[0m                     \u001B[1;32mbreak\u001B[0m\u001B[1;33m\u001B[0m\u001B[1;33m\u001B[0m\u001B[0m\n\u001B[0;32m    343\u001B[0m                 \u001B[0mcompletion\u001B[0m \u001B[1;33m=\u001B[0m \u001B[0mself\u001B[0m\u001B[1;33m.\u001B[0m\u001B[0m_completed_fetches\u001B[0m\u001B[1;33m.\u001B[0m\u001B[0mpopleft\u001B[0m\u001B[1;33m(\u001B[0m\u001B[1;33m)\u001B[0m\u001B[1;33m\u001B[0m\u001B[1;33m\u001B[0m\u001B[0m\n\u001B[1;32m--> 344\u001B[1;33m                 \u001B[0mself\u001B[0m\u001B[1;33m.\u001B[0m\u001B[0m_next_partition_records\u001B[0m \u001B[1;33m=\u001B[0m \u001B[0mself\u001B[0m\u001B[1;33m.\u001B[0m\u001B[0m_parse_fetched_data\u001B[0m\u001B[1;33m(\u001B[0m\u001B[0mcompletion\u001B[0m\u001B[1;33m)\u001B[0m\u001B[1;33m\u001B[0m\u001B[1;33m\u001B[0m\u001B[0m\n\u001B[0m\u001B[0;32m    345\u001B[0m             \u001B[1;32melse\u001B[0m\u001B[1;33m:\u001B[0m\u001B[1;33m\u001B[0m\u001B[1;33m\u001B[0m\u001B[0m\n\u001B[0;32m    346\u001B[0m                 records_remaining -= self._append(drained,\n",
      "\u001B[1;32md:\\maindashboard\\mdenv\\lib\\site-packages\\kafka\\consumer\\fetcher.py\u001B[0m in \u001B[0;36m_parse_fetched_data\u001B[1;34m(self, completed_fetch)\u001B[0m\n\u001B[0;32m    816\u001B[0m                               \u001B[1;34m\" offset %d to buffered record list\"\u001B[0m\u001B[1;33m,\u001B[0m \u001B[0mtp\u001B[0m\u001B[1;33m,\u001B[0m\u001B[1;33m\u001B[0m\u001B[1;33m\u001B[0m\u001B[0m\n\u001B[0;32m    817\u001B[0m                               position)\n\u001B[1;32m--> 818\u001B[1;33m                     \u001B[0munpacked\u001B[0m \u001B[1;33m=\u001B[0m \u001B[0mlist\u001B[0m\u001B[1;33m(\u001B[0m\u001B[0mself\u001B[0m\u001B[1;33m.\u001B[0m\u001B[0m_unpack_message_set\u001B[0m\u001B[1;33m(\u001B[0m\u001B[0mtp\u001B[0m\u001B[1;33m,\u001B[0m \u001B[0mrecords\u001B[0m\u001B[1;33m)\u001B[0m\u001B[1;33m)\u001B[0m\u001B[1;33m\u001B[0m\u001B[1;33m\u001B[0m\u001B[0m\n\u001B[0m\u001B[0;32m    819\u001B[0m                     \u001B[0mparsed_records\u001B[0m \u001B[1;33m=\u001B[0m \u001B[0mself\u001B[0m\u001B[1;33m.\u001B[0m\u001B[0mPartitionRecords\u001B[0m\u001B[1;33m(\u001B[0m\u001B[0mfetch_offset\u001B[0m\u001B[1;33m,\u001B[0m \u001B[0mtp\u001B[0m\u001B[1;33m,\u001B[0m \u001B[0munpacked\u001B[0m\u001B[1;33m)\u001B[0m\u001B[1;33m\u001B[0m\u001B[1;33m\u001B[0m\u001B[0m\n\u001B[0;32m    820\u001B[0m                     \u001B[0mlast_offset\u001B[0m \u001B[1;33m=\u001B[0m \u001B[0munpacked\u001B[0m\u001B[1;33m[\u001B[0m\u001B[1;33m-\u001B[0m\u001B[1;36m1\u001B[0m\u001B[1;33m]\u001B[0m\u001B[1;33m.\u001B[0m\u001B[0moffset\u001B[0m\u001B[1;33m\u001B[0m\u001B[1;33m\u001B[0m\u001B[0m\n",
      "\u001B[1;32md:\\maindashboard\\mdenv\\lib\\site-packages\\kafka\\consumer\\fetcher.py\u001B[0m in \u001B[0;36m_unpack_message_set\u001B[1;34m(self, tp, records)\u001B[0m\n\u001B[0;32m    473\u001B[0m                     value = self._deserialize(\n\u001B[0;32m    474\u001B[0m                         \u001B[0mself\u001B[0m\u001B[1;33m.\u001B[0m\u001B[0mconfig\u001B[0m\u001B[1;33m[\u001B[0m\u001B[1;34m'value_deserializer'\u001B[0m\u001B[1;33m]\u001B[0m\u001B[1;33m,\u001B[0m\u001B[1;33m\u001B[0m\u001B[1;33m\u001B[0m\u001B[0m\n\u001B[1;32m--> 475\u001B[1;33m                         tp.topic, record.value)\n\u001B[0m\u001B[0;32m    476\u001B[0m                     \u001B[0mheaders\u001B[0m \u001B[1;33m=\u001B[0m \u001B[0mrecord\u001B[0m\u001B[1;33m.\u001B[0m\u001B[0mheaders\u001B[0m\u001B[1;33m\u001B[0m\u001B[1;33m\u001B[0m\u001B[0m\n\u001B[0;32m    477\u001B[0m                     header_size = sum(\n",
      "\u001B[1;32md:\\maindashboard\\mdenv\\lib\\site-packages\\kafka\\consumer\\fetcher.py\u001B[0m in \u001B[0;36m_deserialize\u001B[1;34m(self, f, topic, bytes_)\u001B[0m\n\u001B[0;32m    509\u001B[0m         \u001B[1;32mif\u001B[0m \u001B[0misinstance\u001B[0m\u001B[1;33m(\u001B[0m\u001B[0mf\u001B[0m\u001B[1;33m,\u001B[0m \u001B[0mDeserializer\u001B[0m\u001B[1;33m)\u001B[0m\u001B[1;33m:\u001B[0m\u001B[1;33m\u001B[0m\u001B[1;33m\u001B[0m\u001B[0m\n\u001B[0;32m    510\u001B[0m             \u001B[1;32mreturn\u001B[0m \u001B[0mf\u001B[0m\u001B[1;33m.\u001B[0m\u001B[0mdeserialize\u001B[0m\u001B[1;33m(\u001B[0m\u001B[0mtopic\u001B[0m\u001B[1;33m,\u001B[0m \u001B[0mbytes_\u001B[0m\u001B[1;33m)\u001B[0m\u001B[1;33m\u001B[0m\u001B[1;33m\u001B[0m\u001B[0m\n\u001B[1;32m--> 511\u001B[1;33m         \u001B[1;32mreturn\u001B[0m \u001B[0mf\u001B[0m\u001B[1;33m(\u001B[0m\u001B[0mbytes_\u001B[0m\u001B[1;33m)\u001B[0m\u001B[1;33m\u001B[0m\u001B[1;33m\u001B[0m\u001B[0m\n\u001B[0m\u001B[0;32m    512\u001B[0m \u001B[1;33m\u001B[0m\u001B[0m\n\u001B[0;32m    513\u001B[0m     \u001B[1;32mdef\u001B[0m \u001B[0m_send_offset_requests\u001B[0m\u001B[1;33m(\u001B[0m\u001B[0mself\u001B[0m\u001B[1;33m,\u001B[0m \u001B[0mtimestamps\u001B[0m\u001B[1;33m)\u001B[0m\u001B[1;33m:\u001B[0m\u001B[1;33m\u001B[0m\u001B[1;33m\u001B[0m\u001B[0m\n",
      "\u001B[1;32m~\\AppData\\Local\\Temp\\ipykernel_27592\\246738975.py\u001B[0m in \u001B[0;36m<lambda>\u001B[1;34m(x)\u001B[0m\n\u001B[0;32m      5\u001B[0m     \u001B[0menable_auto_commit\u001B[0m\u001B[1;33m=\u001B[0m\u001B[1;32mTrue\u001B[0m\u001B[1;33m,\u001B[0m\u001B[1;33m\u001B[0m\u001B[1;33m\u001B[0m\u001B[0m\n\u001B[0;32m      6\u001B[0m     \u001B[0mgroup_id\u001B[0m\u001B[1;33m=\u001B[0m\u001B[0mtopics\u001B[0m\u001B[1;33m[\u001B[0m\u001B[1;34m\"rtt_topic\"\u001B[0m\u001B[1;33m]\u001B[0m \u001B[1;33m+\u001B[0m \u001B[1;34m'_group'\u001B[0m\u001B[1;33m,\u001B[0m\u001B[1;33m\u001B[0m\u001B[1;33m\u001B[0m\u001B[0m\n\u001B[1;32m----> 7\u001B[1;33m     \u001B[0mvalue_deserializer\u001B[0m\u001B[1;33m=\u001B[0m\u001B[1;32mlambda\u001B[0m \u001B[0mx\u001B[0m\u001B[1;33m:\u001B[0m \u001B[0mjson\u001B[0m\u001B[1;33m.\u001B[0m\u001B[0mloads\u001B[0m\u001B[1;33m(\u001B[0m\u001B[0mx\u001B[0m\u001B[1;33m.\u001B[0m\u001B[0mdecode\u001B[0m\u001B[1;33m(\u001B[0m\u001B[1;34m'utf-8'\u001B[0m\u001B[1;33m)\u001B[0m\u001B[1;33m)\u001B[0m\u001B[1;33m\u001B[0m\u001B[1;33m\u001B[0m\u001B[0m\n\u001B[0m\u001B[0;32m      8\u001B[0m )\n\u001B[0;32m      9\u001B[0m conn = pyodbc.connect(\n",
      "\u001B[1;31mAttributeError\u001B[0m: 'NoneType' object has no attribute 'decode'"
     ]
    }
   ],
   "source": [
    "for msg in consumer:\n",
    "    msg = msg.value\n",
    "    data = data_fetch(msg[\"payload\"][\"after\"])\n",
    "    data[\"NAMEALIAS\"] = query_ingest()\n",
    "    print(data)"
   ],
   "metadata": {
    "collapsed": false,
    "pycharm": {
     "name": "#%%\n"
    }
   }
  },
  {
   "cell_type": "code",
   "execution_count": 1,
   "outputs": [],
   "source": [
    "import pandas as pd"
   ],
   "metadata": {
    "collapsed": false,
    "pycharm": {
     "name": "#%%\n"
    }
   }
  },
  {
   "cell_type": "code",
   "execution_count": 10,
   "outputs": [],
   "source": [
    "data = pd.read_csv(\"test.csv\")"
   ],
   "metadata": {
    "collapsed": false,
    "pycharm": {
     "name": "#%%\n"
    }
   }
  },
  {
   "cell_type": "code",
   "execution_count": 13,
   "outputs": [
    {
     "data": {
      "text/plain": "Index(['sum_RETAIL_TRANSACTION_TABLE.PAYMENTAMOUNT', 'sum_sum_RETAIL_TRANSACTION_TABLE.PAYMENTAMOUNT'], dtype='object')"
     },
     "execution_count": 13,
     "metadata": {},
     "output_type": "execute_result"
    }
   ],
   "source": [
    "data.columns"
   ],
   "metadata": {
    "collapsed": false,
    "pycharm": {
     "name": "#%%\n"
    }
   }
  },
  {
   "cell_type": "code",
   "execution_count": 14,
   "outputs": [
    {
     "data": {
      "text/plain": "40406599"
     },
     "execution_count": 14,
     "metadata": {},
     "output_type": "execute_result"
    }
   ],
   "source": [
    "data[\"sum_RETAIL_TRANSACTION_TABLE.PAYMENTAMOUNT\"].sum()"
   ],
   "metadata": {
    "collapsed": false,
    "pycharm": {
     "name": "#%%\n"
    }
   }
  },
  {
   "cell_type": "code",
   "execution_count": 16,
   "outputs": [
    {
     "name": "stdout",
     "output_type": "stream",
     "text": [
      "<class 'pandas.core.frame.DataFrame'>\n",
      "RangeIndex: 45 entries, 0 to 44\n",
      "Data columns (total 2 columns):\n",
      " #   Column                                          Non-Null Count  Dtype\n",
      "---  ------                                          --------------  -----\n",
      " 0   sum_RETAIL_TRANSACTION_TABLE.PAYMENTAMOUNT      45 non-null     int64\n",
      " 1   sum_sum_RETAIL_TRANSACTION_TABLE.PAYMENTAMOUNT  45 non-null     int64\n",
      "dtypes: int64(2)\n",
      "memory usage: 848.0 bytes\n"
     ]
    }
   ],
   "source": [
    "data.info()"
   ],
   "metadata": {
    "collapsed": false,
    "pycharm": {
     "name": "#%%\n"
    }
   }
  },
  {
   "cell_type": "code",
   "execution_count": 17,
   "outputs": [],
   "source": [
    "data2 = pd.read_csv(\"test2.csv\")"
   ],
   "metadata": {
    "collapsed": false,
    "pycharm": {
     "name": "#%%\n"
    }
   }
  },
  {
   "cell_type": "code",
   "execution_count": 18,
   "outputs": [
    {
     "data": {
      "text/plain": "    sum_RETAIL_TRANSACTION_TABLE.PAYMENTAMOUNT  \\\n0                                      4198140   \n1                                      3836700   \n2                                      3473200   \n3                                      3171000   \n4                                      2866900   \n5                                      2471500   \n6                                      2447190   \n7                                      2422100   \n8                                      2226000   \n9                                      2058000   \n10                                     1434000   \n11                                     1232128   \n12                                     1213000   \n13                                      887000   \n14                                      868725   \n15                                      860800   \n16                                      838200   \n17                                      771400   \n18                                      600000   \n19                                      574275   \n20                                      530000   \n21                                      499600   \n22                                      418900   \n23                                      415200   \n24                                      391550   \n25                                      390000   \n26                                      336000   \n27                                      248700   \n28                                      235000   \n29                                      194000   \n30                                      190000   \n31                                      166600   \n32                                      112300   \n33                                       85118   \n34                                       84280   \n35                                       77600   \n36                                       68600   \n37                                       65600   \n38                                       34193   \n39                                       19400   \n40                                        9215   \n41                                        9700   \n42                                       -9215   \n43                                     -390000   \n44                                    -2226000   \n\n    sum_sum_RETAIL_TRANSACTION_TABLE.PAYMENTAMOUNT  \n0                                          4198140  \n1                                          3836700  \n2                                          3473200  \n3                                          3171000  \n4                                          2866900  \n5                                          2471500  \n6                                          2447190  \n7                                          2422100  \n8                                          2226000  \n9                                          2058000  \n10                                         1434000  \n11                                         1232128  \n12                                         1213000  \n13                                          887000  \n14                                          868725  \n15                                          860800  \n16                                          838200  \n17                                          771400  \n18                                          600000  \n19                                          574275  \n20                                          530000  \n21                                          499600  \n22                                          418900  \n23                                          415200  \n24                                          391550  \n25                                          390000  \n26                                          336000  \n27                                          248700  \n28                                          235000  \n29                                          194000  \n30                                          190000  \n31                                          166600  \n32                                          112300  \n33                                           85118  \n34                                           84280  \n35                                           77600  \n36                                           68600  \n37                                           65600  \n38                                           34193  \n39                                           19400  \n40                                           18430  \n41                                            9700  \n42                                          -18430  \n43                                         -390000  \n44                                        -2226000  ",
      "text/html": "<div>\n<style scoped>\n    .dataframe tbody tr th:only-of-type {\n        vertical-align: middle;\n    }\n\n    .dataframe tbody tr th {\n        vertical-align: top;\n    }\n\n    .dataframe thead th {\n        text-align: right;\n    }\n</style>\n<table border=\"1\" class=\"dataframe\">\n  <thead>\n    <tr style=\"text-align: right;\">\n      <th></th>\n      <th>sum_RETAIL_TRANSACTION_TABLE.PAYMENTAMOUNT</th>\n      <th>sum_sum_RETAIL_TRANSACTION_TABLE.PAYMENTAMOUNT</th>\n    </tr>\n  </thead>\n  <tbody>\n    <tr>\n      <th>0</th>\n      <td>4198140</td>\n      <td>4198140</td>\n    </tr>\n    <tr>\n      <th>1</th>\n      <td>3836700</td>\n      <td>3836700</td>\n    </tr>\n    <tr>\n      <th>2</th>\n      <td>3473200</td>\n      <td>3473200</td>\n    </tr>\n    <tr>\n      <th>3</th>\n      <td>3171000</td>\n      <td>3171000</td>\n    </tr>\n    <tr>\n      <th>4</th>\n      <td>2866900</td>\n      <td>2866900</td>\n    </tr>\n    <tr>\n      <th>5</th>\n      <td>2471500</td>\n      <td>2471500</td>\n    </tr>\n    <tr>\n      <th>6</th>\n      <td>2447190</td>\n      <td>2447190</td>\n    </tr>\n    <tr>\n      <th>7</th>\n      <td>2422100</td>\n      <td>2422100</td>\n    </tr>\n    <tr>\n      <th>8</th>\n      <td>2226000</td>\n      <td>2226000</td>\n    </tr>\n    <tr>\n      <th>9</th>\n      <td>2058000</td>\n      <td>2058000</td>\n    </tr>\n    <tr>\n      <th>10</th>\n      <td>1434000</td>\n      <td>1434000</td>\n    </tr>\n    <tr>\n      <th>11</th>\n      <td>1232128</td>\n      <td>1232128</td>\n    </tr>\n    <tr>\n      <th>12</th>\n      <td>1213000</td>\n      <td>1213000</td>\n    </tr>\n    <tr>\n      <th>13</th>\n      <td>887000</td>\n      <td>887000</td>\n    </tr>\n    <tr>\n      <th>14</th>\n      <td>868725</td>\n      <td>868725</td>\n    </tr>\n    <tr>\n      <th>15</th>\n      <td>860800</td>\n      <td>860800</td>\n    </tr>\n    <tr>\n      <th>16</th>\n      <td>838200</td>\n      <td>838200</td>\n    </tr>\n    <tr>\n      <th>17</th>\n      <td>771400</td>\n      <td>771400</td>\n    </tr>\n    <tr>\n      <th>18</th>\n      <td>600000</td>\n      <td>600000</td>\n    </tr>\n    <tr>\n      <th>19</th>\n      <td>574275</td>\n      <td>574275</td>\n    </tr>\n    <tr>\n      <th>20</th>\n      <td>530000</td>\n      <td>530000</td>\n    </tr>\n    <tr>\n      <th>21</th>\n      <td>499600</td>\n      <td>499600</td>\n    </tr>\n    <tr>\n      <th>22</th>\n      <td>418900</td>\n      <td>418900</td>\n    </tr>\n    <tr>\n      <th>23</th>\n      <td>415200</td>\n      <td>415200</td>\n    </tr>\n    <tr>\n      <th>24</th>\n      <td>391550</td>\n      <td>391550</td>\n    </tr>\n    <tr>\n      <th>25</th>\n      <td>390000</td>\n      <td>390000</td>\n    </tr>\n    <tr>\n      <th>26</th>\n      <td>336000</td>\n      <td>336000</td>\n    </tr>\n    <tr>\n      <th>27</th>\n      <td>248700</td>\n      <td>248700</td>\n    </tr>\n    <tr>\n      <th>28</th>\n      <td>235000</td>\n      <td>235000</td>\n    </tr>\n    <tr>\n      <th>29</th>\n      <td>194000</td>\n      <td>194000</td>\n    </tr>\n    <tr>\n      <th>30</th>\n      <td>190000</td>\n      <td>190000</td>\n    </tr>\n    <tr>\n      <th>31</th>\n      <td>166600</td>\n      <td>166600</td>\n    </tr>\n    <tr>\n      <th>32</th>\n      <td>112300</td>\n      <td>112300</td>\n    </tr>\n    <tr>\n      <th>33</th>\n      <td>85118</td>\n      <td>85118</td>\n    </tr>\n    <tr>\n      <th>34</th>\n      <td>84280</td>\n      <td>84280</td>\n    </tr>\n    <tr>\n      <th>35</th>\n      <td>77600</td>\n      <td>77600</td>\n    </tr>\n    <tr>\n      <th>36</th>\n      <td>68600</td>\n      <td>68600</td>\n    </tr>\n    <tr>\n      <th>37</th>\n      <td>65600</td>\n      <td>65600</td>\n    </tr>\n    <tr>\n      <th>38</th>\n      <td>34193</td>\n      <td>34193</td>\n    </tr>\n    <tr>\n      <th>39</th>\n      <td>19400</td>\n      <td>19400</td>\n    </tr>\n    <tr>\n      <th>40</th>\n      <td>9215</td>\n      <td>18430</td>\n    </tr>\n    <tr>\n      <th>41</th>\n      <td>9700</td>\n      <td>9700</td>\n    </tr>\n    <tr>\n      <th>42</th>\n      <td>-9215</td>\n      <td>-18430</td>\n    </tr>\n    <tr>\n      <th>43</th>\n      <td>-390000</td>\n      <td>-390000</td>\n    </tr>\n    <tr>\n      <th>44</th>\n      <td>-2226000</td>\n      <td>-2226000</td>\n    </tr>\n  </tbody>\n</table>\n</div>"
     },
     "execution_count": 18,
     "metadata": {},
     "output_type": "execute_result"
    }
   ],
   "source": [
    "data2"
   ],
   "metadata": {
    "collapsed": false,
    "pycharm": {
     "name": "#%%\n"
    }
   }
  },
  {
   "cell_type": "code",
   "execution_count": 19,
   "outputs": [
    {
     "data": {
      "text/plain": "40406599"
     },
     "execution_count": 19,
     "metadata": {},
     "output_type": "execute_result"
    }
   ],
   "source": [
    "data2[\"sum_RETAIL_TRANSACTION_TABLE.PAYMENTAMOUNT\"].sum()"
   ],
   "metadata": {
    "collapsed": false,
    "pycharm": {
     "name": "#%%\n"
    }
   }
  },
  {
   "cell_type": "code",
   "execution_count": 22,
   "outputs": [
    {
     "ename": "TypeError",
     "evalue": "cannot unpack non-iterable int object",
     "output_type": "error",
     "traceback": [
      "\u001B[1;31m---------------------------------------------------------------------------\u001B[0m",
      "\u001B[1;31mTypeError\u001B[0m                                 Traceback (most recent call last)",
      "\u001B[1;32m~\\AppData\\Local\\Temp\\ipykernel_18116\\1982561894.py\u001B[0m in \u001B[0;36m<module>\u001B[1;34m\u001B[0m\n\u001B[1;32m----> 1\u001B[1;33m \u001B[0mtemp\u001B[0m \u001B[1;33m=\u001B[0m \u001B[1;33m{\u001B[0m\u001B[0mk\u001B[0m\u001B[1;33m:\u001B[0m \u001B[0mv\u001B[0m \u001B[1;32mfor\u001B[0m \u001B[1;33m(\u001B[0m\u001B[0mk\u001B[0m\u001B[1;33m,\u001B[0m \u001B[0mv\u001B[0m\u001B[1;33m)\u001B[0m \u001B[1;32min\u001B[0m \u001B[0mrange\u001B[0m\u001B[1;33m(\u001B[0m\u001B[1;36m1\u001B[0m\u001B[1;33m,\u001B[0m \u001B[1;36m10\u001B[0m\u001B[1;33m)\u001B[0m \u001B[1;33m}\u001B[0m\u001B[1;33m\u001B[0m\u001B[1;33m\u001B[0m\u001B[0m\n\u001B[0m\u001B[0;32m      2\u001B[0m \u001B[0mtemp\u001B[0m\u001B[1;33m\u001B[0m\u001B[1;33m\u001B[0m\u001B[0m\n",
      "\u001B[1;32m~\\AppData\\Local\\Temp\\ipykernel_18116\\1982561894.py\u001B[0m in \u001B[0;36m<dictcomp>\u001B[1;34m(.0)\u001B[0m\n\u001B[1;32m----> 1\u001B[1;33m \u001B[0mtemp\u001B[0m \u001B[1;33m=\u001B[0m \u001B[1;33m{\u001B[0m\u001B[0mk\u001B[0m\u001B[1;33m:\u001B[0m \u001B[0mv\u001B[0m \u001B[1;32mfor\u001B[0m \u001B[1;33m(\u001B[0m\u001B[0mk\u001B[0m\u001B[1;33m,\u001B[0m \u001B[0mv\u001B[0m\u001B[1;33m)\u001B[0m \u001B[1;32min\u001B[0m \u001B[0mrange\u001B[0m\u001B[1;33m(\u001B[0m\u001B[1;36m1\u001B[0m\u001B[1;33m,\u001B[0m \u001B[1;36m10\u001B[0m\u001B[1;33m)\u001B[0m \u001B[1;33m}\u001B[0m\u001B[1;33m\u001B[0m\u001B[1;33m\u001B[0m\u001B[0m\n\u001B[0m\u001B[0;32m      2\u001B[0m \u001B[0mtemp\u001B[0m\u001B[1;33m\u001B[0m\u001B[1;33m\u001B[0m\u001B[0m\n",
      "\u001B[1;31mTypeError\u001B[0m: cannot unpack non-iterable int object"
     ]
    }
   ],
   "source": [
    "temp = {k: v for (k, v) in range(1, 10) }\n",
    "temp"
   ],
   "metadata": {
    "collapsed": false,
    "pycharm": {
     "name": "#%%\n"
    }
   }
  },
  {
   "cell_type": "code",
   "execution_count": 23,
   "outputs": [],
   "source": [
    "d = {1: None, 2: \"Hello\"}"
   ],
   "metadata": {
    "collapsed": false,
    "pycharm": {
     "name": "#%%\n"
    }
   }
  },
  {
   "cell_type": "code",
   "execution_count": 24,
   "outputs": [
    {
     "data": {
      "text/plain": "{1: None, 2: 'Hello'}"
     },
     "execution_count": 24,
     "metadata": {},
     "output_type": "execute_result"
    }
   ],
   "source": [
    "d"
   ],
   "metadata": {
    "collapsed": false,
    "pycharm": {
     "name": "#%%\n"
    }
   }
  },
  {
   "cell_type": "code",
   "execution_count": 38,
   "outputs": [
    {
     "name": "stdout",
     "output_type": "stream",
     "text": [
      "Yes\n"
     ]
    }
   ],
   "source": [
    "if 'Hello' in d.values():\n",
    "    print('Yes')\n",
    "else:\n",
    "    print('No')"
   ],
   "metadata": {
    "collapsed": false,
    "pycharm": {
     "name": "#%%\n"
    }
   }
  },
  {
   "cell_type": "code",
   "execution_count": null,
   "outputs": [],
   "source": [],
   "metadata": {
    "collapsed": false,
    "pycharm": {
     "name": "#%%\n"
    }
   }
  }
 ],
 "metadata": {
  "kernelspec": {
   "display_name": "Python 3",
   "language": "python",
   "name": "python3"
  },
  "language_info": {
   "codemirror_mode": {
    "name": "ipython",
    "version": 2
   },
   "file_extension": ".py",
   "mimetype": "text/x-python",
   "name": "python",
   "nbconvert_exporter": "python",
   "pygments_lexer": "ipython2",
   "version": "2.7.6"
  }
 },
 "nbformat": 4,
 "nbformat_minor": 0
}